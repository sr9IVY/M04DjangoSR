{
 "cells": [
  {
   "cell_type": "code",
   "execution_count": 2,
   "id": "66473938-b98f-4c05-b803-bc476eb39728",
   "metadata": {},
   "outputs": [
    {
     "name": "stdout",
     "output_type": "stream",
     "text": [
      "The 5 books stored database is:\n",
      "('The Weirdstone of Brisingamen', 'Alan Garner', 1960)\n",
      "('Perdido Street Station', 'China Miéville', 2000)\n",
      "('Thud!', 'Terry Pratchett', 2005)\n",
      "('The Spellman Files', 'Lisa Lutz', 2007)\n",
      "('Small Gods', 'Terry Pratchett', 1992)\n",
      "\n",
      "The 5 books sorted database is:\n",
      "('Perdido Street Station', 'China Miéville', 2000)\n",
      "('Small Gods', 'Terry Pratchett', 1992)\n",
      "('The Spellman Files', 'Lisa Lutz', 2007)\n",
      "('The Weirdstone of Brisingamen', 'Alan Garner', 1960)\n",
      "('Thud!', 'Terry Pratchett', 2005)\n"
     ]
    }
   ],
   "source": [
    "#Student: Sidart Rav\n",
    "#Filename: books5.db\n",
    "\n",
    "import sqlite3\n",
    "\n",
    "# Step 1: Create the database and table\n",
    "db = sqlite3.connect('books05.db')\n",
    "curs = db.cursor()\n",
    "\n",
    "curs.execute('''CREATE TABLE IF NOT EXISTS books (\n",
    "    title TEXT,\n",
    "    author TEXT,\n",
    "    year INTEGER\n",
    ")''')\n",
    "\n",
    "db.commit()\n",
    "\n",
    "# Step 2: Insert book data\n",
    "book_data = [\n",
    "    (\"The Weirdstone of Brisingamen\", \"Alan Garner\", 1960),\n",
    "    (\"Perdido Street Station\", \"China Miéville\", 2000),\n",
    "    (\"Thud!\", \"Terry Pratchett\", 2005),\n",
    "    (\"The Spellman Files\", \"Lisa Lutz\", 2007),\n",
    "    (\"Small Gods\", \"Terry Pratchett\", 1992)\n",
    "]\n",
    "\n",
    "curs.executemany(\"INSERT INTO books VALUES (?, ?, ?)\", book_data)\n",
    "db.commit()\n",
    "\n",
    "# Step 3: Print books stored in the database\n",
    "print(\"The 5 books stored database is:\")\n",
    "curs.execute(\"SELECT * FROM books\")\n",
    "for row in curs.fetchall():\n",
    "    print(row)\n",
    "\n",
    "# Step 4: Sort books by title\n",
    "print(\"\\nThe 5 books sorted database is:\")\n",
    "curs.execute(\"SELECT * FROM books ORDER BY title\")\n",
    "for row in curs.fetchall():\n",
    "    print(row)\n",
    "\n",
    "# Close the database connection\n",
    "db.close()\n"
   ]
  }
 ],
 "metadata": {
  "kernelspec": {
   "display_name": "Python 3 (ipykernel)",
   "language": "python",
   "name": "python3"
  },
  "language_info": {
   "codemirror_mode": {
    "name": "ipython",
    "version": 3
   },
   "file_extension": ".py",
   "mimetype": "text/x-python",
   "name": "python",
   "nbconvert_exporter": "python",
   "pygments_lexer": "ipython3",
   "version": "3.13.2"
  }
 },
 "nbformat": 4,
 "nbformat_minor": 5
}
